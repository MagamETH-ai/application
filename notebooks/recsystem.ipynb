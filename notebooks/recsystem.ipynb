{
 "cells": [
  {
   "cell_type": "code",
   "execution_count": 3,
   "id": "39701364",
   "metadata": {},
   "outputs": [],
   "source": [
    "import os\n",
    "import yadisk"
   ]
  },
  {
   "cell_type": "code",
   "execution_count": 4,
   "id": "20144b88",
   "metadata": {},
   "outputs": [],
   "source": [
    "yadisk = yadisk.Client(token=os.getenv('YADISK_TOKEN'))"
   ]
  },
  {
   "cell_type": "code",
   "execution_count": 36,
   "id": "b1e2da53",
   "metadata": {},
   "outputs": [
    {
     "data": {
      "text/plain": [
       "<SyncResourceLinkObject{\n",
       "    'href': 'https://cloud-api.yandex.net/v1/disk/resources?path=disk%3A%2Fexports',\n",
       "    'method': 'GET',\n",
       "    'templated': False,\n",
       "    'path': 'disk:/exports',\n",
       "    'public_key': None,\n",
       "    'public_url': None,\n",
       "    'type': None,\n",
       "    'file': None})>"
      ]
     },
     "execution_count": 36,
     "metadata": {},
     "output_type": "execute_result"
    }
   ],
   "source": [
    "yadisk.download(\"/exports\", \"dataset/data.zip\")"
   ]
  },
  {
   "cell_type": "code",
   "execution_count": null,
   "id": "3995a83c",
   "metadata": {},
   "outputs": [],
   "source": []
  }
 ],
 "metadata": {
  "kernelspec": {
   "display_name": "llm",
   "language": "python",
   "name": "python3"
  },
  "language_info": {
   "codemirror_mode": {
    "name": "ipython",
    "version": 3
   },
   "file_extension": ".py",
   "mimetype": "text/x-python",
   "name": "python",
   "nbconvert_exporter": "python",
   "pygments_lexer": "ipython3",
   "version": "3.12.9"
  }
 },
 "nbformat": 4,
 "nbformat_minor": 5
}
